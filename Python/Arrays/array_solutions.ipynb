{
 "metadata": {
  "name": "array_solutions"
 },
 "nbformat": 3,
 "nbformat_minor": 0,
 "worksheets": [
  {
   "cells": [
    {
     "cell_type": "code",
     "collapsed": false,
     "input": [
      "import numpy as np\n",
      "from numpy.random import rand"
     ],
     "language": "python",
     "metadata": {},
     "outputs": [],
     "prompt_number": 1
    },
    {
     "cell_type": "code",
     "collapsed": false,
     "input": [
      "#problem 1\n",
      "def arrmul(A,B):\n",
      "    new = []\n",
      "    for i in range(len(A)):\n",
      "        newrow = []\n",
      "        for k in range(len(B[0])):\n",
      "            tot = 0\n",
      "            for j in range(len(B)):\n",
      "                tot += A[i][j] * B[j][k]\n",
      "            newrow.append(tot)\n",
      "        new.append(newrow)\n",
      "    return new\n",
      "\n",
      "n = 200\n",
      "A = np.arange(n**2).reshape((n,n)).tolist()\n",
      "%timeit arrmul(A,A)\n",
      "%timeit np.dot(A,A)"
     ],
     "language": "python",
     "metadata": {},
     "outputs": [
      {
       "output_type": "stream",
       "stream": "stdout",
       "text": [
        "1 loops, best of 3: 2.4 s per loop\n",
        "10 loops, best of 3: 33.7 ms per loop"
       ]
      },
      {
       "output_type": "stream",
       "stream": "stdout",
       "text": [
        "\n"
       ]
      }
     ],
     "prompt_number": 2
    },
    {
     "cell_type": "code",
     "collapsed": false,
     "input": [
      "#problem 2\n",
      "A = rand(1000,1000)\n",
      "np.exp(A, out=A)\n",
      "np.average(np.max(A, axis=1))"
     ],
     "language": "python",
     "metadata": {},
     "outputs": [
      {
       "output_type": "pyout",
       "prompt_number": 3,
       "text": [
        "2.7155473188159767"
       ]
      }
     ],
     "prompt_number": 3
    },
    {
     "cell_type": "code",
     "collapsed": false,
     "input": [
      "#problem 3\n",
      "A = rand(10,10)\n",
      "B = rand(10,10)\n",
      "A[A<B] = B[A<B]"
     ],
     "language": "python",
     "metadata": {},
     "outputs": [],
     "prompt_number": 4
    },
    {
     "cell_type": "code",
     "collapsed": false,
     "input": [
      "#problem 4\n",
      "A = rand(1000,1000)\n",
      "%timeit A.reshape(A.size)\n",
      "%timeit A.flatten()"
     ],
     "language": "python",
     "metadata": {},
     "outputs": [
      {
       "output_type": "stream",
       "stream": "stdout",
       "text": [
        "100000 loops, best of 3: 1.82 us per loop\n",
        "100 loops, best of 3: 10.5 ms per loop"
       ]
      },
      {
       "output_type": "stream",
       "stream": "stdout",
       "text": [
        "\n"
       ]
      }
     ],
     "prompt_number": 5
    },
    {
     "cell_type": "code",
     "collapsed": false,
     "input": [
      "#problem 5\n",
      "#the difference is that np.vstack(A) returns a new array\n",
      "#while A.T returns a view\n",
      "#A.T is much faster\n",
      "A = rand(1,1000000)\n",
      "%timeit np.vstack(A)\n",
      "%timeit A.T"
     ],
     "language": "python",
     "metadata": {},
     "outputs": [
      {
       "output_type": "stream",
       "stream": "stdout",
       "text": [
        "100 loops, best of 3: 10.4 ms per loop\n",
        "1000000 loops, best of 3: 449 ns per loop"
       ]
      },
      {
       "output_type": "stream",
       "stream": "stdout",
       "text": [
        "\n"
       ]
      }
     ],
     "prompt_number": 6
    },
    {
     "cell_type": "code",
     "collapsed": false,
     "input": [
      "#problem 6\n",
      "def laplace(U,tol):\n",
      "    new = U.copy()\n",
      "    dif = tol\n",
      "    while tol<= dif:\n",
      "        new[1:-1,1:-1] = (U[:-2,1:-1] + U[2:,1:-1] + U[1:-1,:-2] + U[1:-1,2:]) / 4.\n",
      "        dif = np.max(np.absolute(U-new))\n",
      "        U[:] = new\n",
      "\n",
      "n = 100\n",
      "tol=.0001\n",
      "U=np.ones((n,n))\n",
      "U[:,0] = 100\n",
      "U[:,-1] = 100\n",
      "U[0] = 0\n",
      "U[-1] = 0\n",
      "%time laplace(U, tol)\n",
      "import matplotlib.pyplot as plt\n",
      "from mpl_toolkits.mplot3d import Axes3D\n",
      "fig = plt.figure()\n",
      "ax = fig.gca(projection='3d')\n",
      "X = np.linspace(0,1,n)\n",
      "Y = np.linspace(0,1,n)\n",
      "X, Y = np.meshgrid(X, Y)\n",
      "ax.plot_surface(X, Y, U, rstride=5)\n",
      "plt.show()"
     ],
     "language": "python",
     "metadata": {},
     "outputs": [
      {
       "output_type": "stream",
       "stream": "stdout",
       "text": [
        "CPU times: user 2.95 s, sys: 0.00 s, total: 2.95 s\n",
        "Wall time: 2.95 s\n"
       ]
      }
     ],
     "prompt_number": 7
    },
    {
     "cell_type": "code",
     "collapsed": false,
     "input": [
      "#problem 7\n",
      "\n",
      "#case 1\n",
      "#All input arrays have exactly the same shape\n",
      "a = rand(4, 5)\n",
      "b = rand(4, 5)\n",
      "r = a * b\n",
      "print \"Case 1: {} * {} = {}\".format(a.shape, b.shape, r.shape)\n",
      "\n",
      "#case 2\n",
      "#All input arrays are of the same dimension and\n",
      "#the length of corresponding dimensions match or is 1\n",
      "a = rand(5, 4, 1, 6)\n",
      "b = rand(5, 4, 1, 1)\n",
      "r = a * b\n",
      "print \"Case 2: {} * {} = {}\".format(a.shape, b.shape, r.shape)\n",
      "\n",
      "#case 3\n",
      "#All input arrays of fewer dimension can have 1\n",
      "#prepended to their shapes to satisfy the second criteria.\n",
      "a = rand(1, 6)\n",
      "b = rand(5, 4, 1, 6)\n",
      "r = a * b\n",
      "print \"Case 3: {} * {} = {}\".format(a.shape, b.shape, r.shape)"
     ],
     "language": "python",
     "metadata": {},
     "outputs": [
      {
       "output_type": "stream",
       "stream": "stdout",
       "text": [
        "Case 1: (4L, 5L) * (4L, 5L) = (4L, 5L)\n",
        "Case 2: (5L, 4L, 1L, 6L) * (5L, 4L, 1L, 1L) = (5L, 4L, 1L, 6L)\n",
        "Case 3: (1L, 6L) * (5L, 4L, 1L, 6L) = (5L, 4L, 1L, 6L)\n"
       ]
      }
     ],
     "prompt_number": 8
    },
    {
     "cell_type": "code",
     "collapsed": false,
     "input": [],
     "language": "python",
     "metadata": {},
     "outputs": []
    }
   ],
   "metadata": {}
  }
 ]
}