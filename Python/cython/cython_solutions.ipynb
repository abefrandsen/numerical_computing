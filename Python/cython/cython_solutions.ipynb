{
 "metadata": {
  "name": "cython_solutions"
 },
 "nbformat": 3,
 "nbformat_minor": 0,
 "worksheets": [
  {
   "cells": [
    {
     "cell_type": "code",
     "collapsed": false,
     "input": [
      "import scipy as sp\n",
      "import numpy as np\n",
      "from scipy import linalg as la\n",
      "%load_ext cythonmagic"
     ],
     "language": "python",
     "metadata": {},
     "outputs": [],
     "prompt_number": 1
    },
    {
     "cell_type": "code",
     "collapsed": false,
     "input": [
      "def naivesum(X):\n",
      "    tot=0.\n",
      "    for i in xrange(X.size):\n",
      "        tot+=X[i]\n",
      "    return tot"
     ],
     "language": "python",
     "metadata": {},
     "outputs": [],
     "prompt_number": 6
    },
    {
     "cell_type": "code",
     "collapsed": false,
     "input": [
      "%%cython\n",
      "import numpy as np\n",
      "cimport numpy as np\n",
      "cimport cython\n",
      "\n",
      "def cysum1(X):\n",
      "    cdef int i, size=X.size\n",
      "    cdef double tot\n",
      "    for i in range(size):\n",
      "        tot+=X[i]\n",
      "    return tot\n",
      "\n",
      "def cysum2(np.ndarray[dtype=double,ndim=1] X):\n",
      "    cdef int i, size=X.size\n",
      "    cdef double tot\n",
      "    for i in range(size):\n",
      "        tot+=X[i]\n",
      "    return tot\n",
      "\n",
      "@cython.boundscheck(False)\n",
      "@cython.wraparound(False)\n",
      "def cysum3(np.ndarray[dtype=double,ndim=1] X):\n",
      "    cdef int i, size=X.size\n",
      "    cdef double tot\n",
      "    for i in range(size):\n",
      "        tot+=X[i]\n",
      "    return tot"
     ],
     "language": "python",
     "metadata": {},
     "outputs": [],
     "prompt_number": 4
    },
    {
     "cell_type": "code",
     "collapsed": false,
     "input": [
      "X=sp.rand(10000)\n",
      "%timeit naivesum(X)\n",
      "%timeit cysum1(X)\n",
      "%timeit sum(X)\n",
      "%timeit cysum2(X)\n",
      "%timeit cysum3(X)\n",
      "%timeit np.sum(X)"
     ],
     "language": "python",
     "metadata": {},
     "outputs": [
      {
       "output_type": "stream",
       "stream": "stdout",
       "text": [
        "100 loops, best of 3: 4.29 ms per loop\n",
        "100 loops, best of 3: 12.9 ms per loop"
       ]
      },
      {
       "output_type": "stream",
       "stream": "stdout",
       "text": [
        "\n",
        "100 loops, best of 3: 3.62 ms per loop"
       ]
      },
      {
       "output_type": "stream",
       "stream": "stdout",
       "text": [
        "\n",
        "10000 loops, best of 3: 22.2 us per loop"
       ]
      },
      {
       "output_type": "stream",
       "stream": "stdout",
       "text": [
        "\n",
        "100000 loops, best of 3: 14.7 us per loop"
       ]
      },
      {
       "output_type": "stream",
       "stream": "stdout",
       "text": [
        "\n",
        "10000 loops, best of 3: 25.6 us per loop"
       ]
      },
      {
       "output_type": "stream",
       "stream": "stdout",
       "text": [
        "\n"
       ]
      }
     ],
     "prompt_number": 7
    },
    {
     "cell_type": "code",
     "collapsed": false,
     "input": [
      "def pymindist(Y):\n",
      "    X = Y.take(Y[:,0].argsort(),axis=0)\n",
      "    r = 0.\n",
      "    low = 0\n",
      "    dim = X.shape[1]\n",
      "    n = len(X)\n",
      "    for i in range(dim):\n",
      "        r+= (X[0,i]-X[1,i])**2\n",
      "    r = r**.5\n",
      "    for i in range(2,n):\n",
      "        while X[low,0]<(X[i,0]-r):\n",
      "            low+=1\n",
      "        for k in range(low,i):\n",
      "            proc=True\n",
      "            d=0.\n",
      "            for j in range(1,dim):\n",
      "                dif=abs(X[k,j]-X[i,j])\n",
      "                if r<dif:\n",
      "                    proc=False\n",
      "                    break\n",
      "                d+=dif**2\n",
      "            if proc:\n",
      "                r=min(r,(d+(X[k,0]-X[i,0])**2)**.5)\n",
      "    return r"
     ],
     "language": "python",
     "metadata": {},
     "outputs": [],
     "prompt_number": 12
    },
    {
     "cell_type": "code",
     "collapsed": false,
     "input": [
      "%%cython\n",
      "from libc.math cimport fabs\n",
      "cimport numpy as np\n",
      "cimport cython\n",
      "@cython.boundscheck(False)\n",
      "@cython.wraparound(False)\n",
      "def cymindist(Y):\n",
      "    cdef np.ndarray[double, ndim=2] X = Y.take(Y[:,0].argsort(),axis=0)\n",
      "    cdef double r = 0.\n",
      "    cdef int low = 0\n",
      "    cdef int dim = X.shape[1]\n",
      "    cdef int n = len(X)\n",
      "    cdef int i, j, k\n",
      "    cdef double d, dif\n",
      "    proc = True\n",
      "    for i in range(dim):\n",
      "        r+= (X[0,i]-X[1,i])**2\n",
      "    r = r**.5\n",
      "    for i in range(2,n):\n",
      "        while X[low,0]<(X[i,0]-r):\n",
      "            low+=1\n",
      "        for k in range(low,i):\n",
      "            proc=True\n",
      "            d=0.\n",
      "            for j in range(1,dim):\n",
      "                dif=fabs(X[k,j]-X[i,j])\n",
      "                if r<dif:\n",
      "                    proc=False\n",
      "                    break\n",
      "                d+=dif**2\n",
      "            if proc:\n",
      "                r=min(r,(d+(X[k,0]-X[i,0])**2)**.5)\n",
      "    return r"
     ],
     "language": "python",
     "metadata": {},
     "outputs": [],
     "prompt_number": 13
    },
    {
     "cell_type": "code",
     "collapsed": false,
     "input": [
      "X=sp.rand(1000000,2)\n",
      "%timeit pymindist(X)\n",
      "%timeit cymindist(X)"
     ],
     "language": "python",
     "metadata": {},
     "outputs": [
      {
       "output_type": "stream",
       "stream": "stdout",
       "text": [
        "1 loops, best of 3: 6 s per loop\n",
        "1 loops, best of 3: 330 ms per loop"
       ]
      },
      {
       "output_type": "stream",
       "stream": "stdout",
       "text": [
        "\n"
       ]
      }
     ],
     "prompt_number": 14
    },
    {
     "cell_type": "code",
     "collapsed": false,
     "input": [
      "def mymultpy(X,power):\n",
      "    prod = np.empty_like(X)\n",
      "    prod[:]=X\n",
      "    temparr = np.empty_like(X[0])\n",
      "    size=X.shape[0]\n",
      "    for n in xrange(1,power):\n",
      "        for i in xrange(size):\n",
      "            for j in xrange(size):\n",
      "                tot=0.\n",
      "                for k in xrange(size):\n",
      "                    tot+=prod[i,k]*X[k,j]\n",
      "                temparr[j]=tot\n",
      "            prod[i]=temparr\n",
      "    return prod"
     ],
     "language": "python",
     "metadata": {},
     "outputs": [],
     "prompt_number": 15
    },
    {
     "cell_type": "code",
     "collapsed": false,
     "input": [
      "%%cython\n",
      "#lets try raising a matrix to a power...\n",
      "#really just a special case of matrix mult.\n",
      "import numpy as np\n",
      "cimport numpy as np\n",
      "cimport cython\n",
      "\n",
      "def mymult1(np.ndarray[dtype=double,ndim=2] X, int power):\n",
      "    cdef np.ndarray[dtype=double,ndim=2] prod = np.empty_like(X)\n",
      "    prod[:]=X\n",
      "    cdef np.ndarray[dtype=double,ndim=1] temparr = np.empty_like(X[0])\n",
      "    cdef int i,j,k,n, size=X.shape[0]\n",
      "    cdef double tot\n",
      "    for n in range(1,power):\n",
      "        for i in range(size):\n",
      "            for j in range(size):\n",
      "                tot=0.\n",
      "                for k in range(size):\n",
      "                    tot+=prod[i,k]*X[k,j]\n",
      "                temparr[j]=tot\n",
      "            prod[i]=temparr\n",
      "    return prod\n",
      "\n",
      "@cython.boundscheck(False)\n",
      "@cython.wraparound(False)\n",
      "def mymult2(np.ndarray[dtype=double,ndim=2] X, int power):\n",
      "    cdef np.ndarray[dtype=double,ndim=2] prod = np.empty_like(X)\n",
      "    prod[:]=X\n",
      "    cdef np.ndarray[dtype=double,ndim=1] temparr = np.empty_like(X[0])\n",
      "    cdef int i,j,k,n, size=X.shape[0]\n",
      "    cdef double tot\n",
      "    for n in range(1,power):\n",
      "        for i in range(size):\n",
      "            for j in range(size):\n",
      "                tot=0.\n",
      "                for k in range(size):\n",
      "                    tot+=prod[i,k]*X[k,j]\n",
      "                temparr[j]=tot\n",
      "            prod[i]=temparr\n",
      "    return prod\n",
      "\n",
      "@cython.boundscheck(False)\n",
      "@cython.wraparound(False)\n",
      "def mymult3(np.ndarray[dtype=double,ndim=2] X, int power):\n",
      "    cdef np.ndarray[dtype=double,ndim=2] prod = np.empty_like(X)\n",
      "    cdef double[:,::1] prodview = prod\n",
      "    prod[:]=X\n",
      "    cdef np.ndarray[dtype=double,ndim=1] temparr = np.empty_like(X[0])\n",
      "    cdef double[::1] tempview=temparr\n",
      "    cdef int i,j,k,n, size=X.shape[0]\n",
      "    cdef double tot\n",
      "    for n in range(1,power):\n",
      "        for i in range(size):\n",
      "            for j in range(size):\n",
      "                tot=0.\n",
      "                for k in range(size):\n",
      "                    tot+=prod[i,k]*X[k,j]\n",
      "                temparr[j]=tot\n",
      "            prodview[i]=tempview\n",
      "    return prod\n",
      "\n",
      "@cython.boundscheck(False)\n",
      "@cython.wraparound(False)\n",
      "def mymult4(np.ndarray[dtype=double,ndim=2] X, int power):\n",
      "    cdef np.ndarray[dtype=double,ndim=2] prod = np.empty_like(X)\n",
      "    prod[:]=X\n",
      "    cdef np.ndarray[dtype=double,ndim=1] temparr = np.empty_like(X[0])\n",
      "    cdef int i,j,k,n, size=X.shape[0]\n",
      "    cdef double tot\n",
      "    for n in range(1,power):\n",
      "        for i in range(size):\n",
      "            for j in range(size):\n",
      "                tot=0.\n",
      "                for k in range(size):\n",
      "                    tot+=prod[i,k]*X[k,j]\n",
      "                temparr[j]=tot\n",
      "            prod[i]=temparr\n",
      "    return prod\n",
      "\n",
      "@cython.boundscheck(False)\n",
      "@cython.wraparound(False)\n",
      "def mymult5(np.ndarray[dtype=double,ndim=2] X, int power):\n",
      "    cdef np.ndarray[dtype=double,ndim=2] prod = np.empty_like(X)\n",
      "    prod[:]=X\n",
      "    cdef np.ndarray[dtype=double,ndim=1] temparr = np.empty_like(X[0])\n",
      "    cdef int i,j,k,n, size=X.shape[0]\n",
      "    cdef double tot\n",
      "    for n in range(1,power):\n",
      "        for j in range(size):\n",
      "            tot=0.\n",
      "            for k in range(size):\n",
      "                tot+=prod[0,k]*X[k,j]\n",
      "            temparr[j]=tot\n",
      "        for i in range(1,size):\n",
      "            for j in range(size):\n",
      "                tot=0.\n",
      "                for k in range(size):\n",
      "                    tot+=prod[i,k]*X[k,j]\n",
      "                prod[i-1,j],temparr[j]=temparr[j],tot\n",
      "        prod[size-1]=temparr\n",
      "    return prod"
     ],
     "language": "python",
     "metadata": {},
     "outputs": [],
     "prompt_number": 16
    },
    {
     "cell_type": "code",
     "collapsed": false,
     "input": [
      "#the typed memoryviews don't add much here but it's something.\n",
      "#versions 4 and 5 are not in the problem, but I wrote them to check that they aren't faster\n",
      "X=sp.rand(100,100)\n",
      "print la.norm(sp.dot(X,X)-mymult1(X,2))\n",
      "print la.norm(sp.dot(X,X)-mymult2(X,2))\n",
      "print la.norm(sp.dot(X,X)-mymult3(X,2))\n",
      "print la.norm(sp.dot(X,X)-mymult4(X,2))\n",
      "print la.norm(sp.dot(X,X)-mymult5(X,2))\n",
      "%timeit mymultpy(X,2)\n",
      "%timeit mymult1(X,2)\n",
      "%timeit mymult2(X,2)\n",
      "%timeit mymult3(X,2)\n",
      "%timeit mymult4(X,2)\n",
      "%timeit mymult5(X,2)\n",
      "%timeit sp.dot(X,X)"
     ],
     "language": "python",
     "metadata": {},
     "outputs": [
      {
       "output_type": "stream",
       "stream": "stdout",
       "text": [
        "0.0\n",
        "0.0\n",
        "0.0\n",
        "0.0\n",
        "0.0\n",
        "1 loops, best of 3: 1.06 s per loop"
       ]
      },
      {
       "output_type": "stream",
       "stream": "stdout",
       "text": [
        "\n",
        "100 loops, best of 3: 8.87 ms per loop"
       ]
      },
      {
       "output_type": "stream",
       "stream": "stdout",
       "text": [
        "\n",
        "1000 loops, best of 3: 1.74 ms per loop"
       ]
      },
      {
       "output_type": "stream",
       "stream": "stdout",
       "text": [
        "\n",
        "1000 loops, best of 3: 1.68 ms per loop"
       ]
      },
      {
       "output_type": "stream",
       "stream": "stdout",
       "text": [
        "\n",
        "1000 loops, best of 3: 1.7 ms per loop"
       ]
      },
      {
       "output_type": "stream",
       "stream": "stdout",
       "text": [
        "\n",
        "1000 loops, best of 3: 1.67 ms per loop"
       ]
      },
      {
       "output_type": "stream",
       "stream": "stdout",
       "text": [
        "\n",
        "10000 loops, best of 3: 168 us per loop"
       ]
      },
      {
       "output_type": "stream",
       "stream": "stdout",
       "text": [
        "\n"
       ]
      }
     ],
     "prompt_number": 18
    },
    {
     "cell_type": "code",
     "collapsed": false,
     "input": [],
     "language": "python",
     "metadata": {},
     "outputs": []
    }
   ],
   "metadata": {}
  }
 ]
}