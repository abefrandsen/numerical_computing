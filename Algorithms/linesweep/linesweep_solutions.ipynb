{
 "metadata": {
  "name": "linesweep solutions 3"
 },
 "nbformat": 3,
 "nbformat_minor": 0,
 "worksheets": [
  {
   "cells": [
    {
     "cell_type": "code",
     "collapsed": false,
     "input": [
      "import numpy as np\n",
      "import scipy as sp\n",
      "import itertools as it\n",
      "import bisect as bs\n",
      "import pqueue as pq\n",
      "from matplotlib import pyplot as plt"
     ],
     "language": "python",
     "metadata": {},
     "outputs": [],
     "prompt_number": 3
    },
    {
     "cell_type": "code",
     "collapsed": false,
     "input": [
      "%load_ext cythonmagic"
     ],
     "language": "python",
     "metadata": {},
     "outputs": [],
     "prompt_number": 4
    },
    {
     "cell_type": "code",
     "collapsed": false,
     "input": [
      "def mindist19(Y):\n",
      "    X=Y[Y[:,0].argsort(kind=\"mergesort\")]\n",
      "    r=np.sum((X[0]-X[1])**2)**.5\n",
      "    low=0\n",
      "    for i in xrange(2,len(X)):\n",
      "        while X[low,0]<(X[i,0]-r):\n",
      "            low+=1\n",
      "        if low<i:\n",
      "            r=min(r,np.min(np.sum((X[low:i]-X[i])**2,axis=-1)**(.5)))\n",
      "    return r"
     ],
     "language": "python",
     "metadata": {},
     "outputs": [],
     "prompt_number": 5
    },
    {
     "cell_type": "code",
     "collapsed": false,
     "input": [
      "%%cython\n",
      "import numpy as np\n",
      "def cymindist19(Y):\n",
      "    X=Y[Y[:,0].argsort(kind=\"mergesort\")]\n",
      "    r=np.sum((X[0]-X[1])**2)**.5\n",
      "    cdef int low = 0\n",
      "    cdef int i = 0\n",
      "    for i in xrange(2,len(X)):\n",
      "        while X[low,0]<(X[i,0]-r):\n",
      "            low+=1\n",
      "        if low<i:\n",
      "            r=min(r,np.min(np.sum((X[low:i]-X[i])**2,axis=-1)**(.5)))\n",
      "    return r"
     ],
     "language": "python",
     "metadata": {},
     "outputs": [],
     "prompt_number": 6
    },
    {
     "cell_type": "code",
     "collapsed": false,
     "input": [
      "def metric(p,X):\n",
      "    return (((X-p)**2).sum(axis=-1))**.5\n",
      "def mindist27(Y,metric):\n",
      "    X=Y[Y[:,0].argsort(kind=\"mergesort\")]\n",
      "    r=metric(X[0],X[1])\n",
      "    low=0\n",
      "    for i in xrange(2,len(X)):\n",
      "        while X[low,0]<(X[i,0]-r):\n",
      "            low+=1\n",
      "        if low<i:\n",
      "            r=min(r,np.min(metric(X[i],X[low:i])))\n",
      "    return r"
     ],
     "language": "python",
     "metadata": {},
     "outputs": [],
     "prompt_number": 7
    },
    {
     "cell_type": "code",
     "collapsed": false,
     "input": [
      "%%cython\n",
      "import numpy as np\n",
      "def cymindist27(Y,metric):\n",
      "    X=Y[Y[:,0].argsort(kind=\"mergesort\")]\n",
      "    r=metric(X[0],X[1])\n",
      "    cdef int low=0\n",
      "    cdef int i = 0\n",
      "    for i in range(2,len(X)):\n",
      "        while X[low,0]<(X[i,0]-r):\n",
      "            low+=1\n",
      "        if low<i:\n",
      "            r=min(r,np.min(metric(X[i],X[low:i])))\n",
      "    return r"
     ],
     "language": "python",
     "metadata": {},
     "outputs": [],
     "prompt_number": 8
    },
    {
     "cell_type": "code",
     "collapsed": false,
     "input": [
      "def mindistRyan2(Y, width=5):\n",
      "    X=Y[Y[:,0].argsort()]\n",
      "    actives = []\n",
      "    r = width\n",
      "    _bl = bs.bisect_left\n",
      "    _br = bs.bisect_right\n",
      "    _islice = it.islice\n",
      "    pt1, pt2 = None, None\n",
      "    for i in xrange(len(X)):\n",
      "        x, y = X[i]\n",
      "        _tmp = (y, x)\n",
      "        actives[:] = [p for p in actives if (x - p[1]) <= r]\n",
      "        for p in _islice(actives, _bl(actives, (y - r, x)), _br(actives, (y + r, x))):\n",
      "            d = ((p[0]-y)**2 + (p[1]-x)**2)**.5\n",
      "            if d < r:\n",
      "                r = d\n",
      "                pt1 = (x,y)\n",
      "                pt2 = (p[1], p[0])\n",
      "        actives.insert(_bl(actives, _tmp), _tmp)\n",
      "    return (r, pt1, pt2)"
     ],
     "language": "python",
     "metadata": {},
     "outputs": [],
     "prompt_number": 9
    },
    {
     "cell_type": "code",
     "collapsed": false,
     "input": [
      "%%cython\n",
      "import numpy as np\n",
      "import bisect as bs\n",
      "cimport numpy as np\n",
      "cimport cython\n",
      "dtypef=np.float\n",
      "dtypei=np.int\n",
      "ctypedef np.float_t dtypef_t\n",
      "ctypedef np.int_t dtypei_t\n",
      "@cython.boundscheck(False)\n",
      "@cython.wraparound(False)\n",
      "def cymindistRyan2(np.ndarray[dtypef_t, ndim=2] Y, width=5):\n",
      "    cdef np.ndarray[dtypef_t, ndim=2] X = Y[Y[:,0].argsort()]\n",
      "    actives = []\n",
      "    r = width\n",
      "    _bl = bs.bisect_left\n",
      "    _br = bs.bisect_right\n",
      "    cdef int i = 0\n",
      "    cdef int k = 0\n",
      "    cdef int low = 0\n",
      "    cdef int high = 0\n",
      "    for i in range(len(X)):\n",
      "        x = X[i,0]\n",
      "        y = X[i,1]\n",
      "        _tmp = (y, x)\n",
      "        \n",
      "        actives[:] = [p for p in actives if (x - p[1]) <= r]\n",
      "        low = _bl(actives, (y - r, x))\n",
      "        high = _br(actives, (y + r, x))\n",
      "        for k in range(low,high):\n",
      "            d = ((actives[k][0]-y)**2 + (actives[k][1]-x)**2)**.5\n",
      "            if d < r:\n",
      "                r = d\n",
      "        actives.insert(_bl(actives, _tmp), _tmp)\n",
      "    return r"
     ],
     "language": "python",
     "metadata": {},
     "outputs": [],
     "prompt_number": 10
    },
    {
     "cell_type": "code",
     "collapsed": false,
     "input": [
      "def metric(p,X):\n",
      "    return (((X-p)**2).sum(axis=-1))**.5\n",
      "def mindistpt(Y,pt,metric,r,axis=0,cut=0):\n",
      "    X=Y[np.nonzero(np.absolute(Y[:,axis]-pt[axis])<r)]\n",
      "    if cut<len(X):\n",
      "        if len(X[0])-1 == axis:\n",
      "            return np.min(metric(pt,X))\n",
      "        else:\n",
      "            return mindistpt(X,pt,metric,r,axis=axis+1,cut=cut)\n",
      "    elif 0<len(X):\n",
      "        return np.min(metric(pt,X))\n",
      "    else:\n",
      "        return r\n",
      "def mindist28(Y,metric,cut=0):\n",
      "    X=Y[Y[:,0].argsort(kind=\"mergesort\")]\n",
      "    r=metric(X[0],X[1])\n",
      "    low=0\n",
      "    for i in xrange(2,len(X)):\n",
      "        while X[low,0]<(X[i,0]-r):\n",
      "            low+=1\n",
      "        if low<i:\n",
      "            r=min(r,mindistpt(X[low:i],X[i],metric,r,axis=1,cut=cut))\n",
      "    return r"
     ],
     "language": "python",
     "metadata": {},
     "outputs": [],
     "prompt_number": 11
    },
    {
     "cell_type": "code",
     "collapsed": false,
     "input": [
      "%%cython\n",
      "import numpy as np\n",
      "cdef mindistpt(Y,pt,metric,r,axis,cut):\n",
      "    X=Y[np.nonzero(np.absolute(Y[:,axis]-pt[axis])<r)]\n",
      "    if cut<len(X):\n",
      "        if len(X[0])-1 == axis:\n",
      "            return np.min(metric(pt,X))\n",
      "        else:\n",
      "            return mindistpt(X,pt,metric,r,axis+1,cut)\n",
      "    elif 0<len(X):\n",
      "        return np.min(metric(pt,X))\n",
      "    else:\n",
      "        return r\n",
      "def cymindist28(Y,metric,cut=0):\n",
      "    X=Y[Y[:,0].argsort(kind=\"mergesort\")]\n",
      "    r=metric(X[0],X[1])\n",
      "    cdef int low=0\n",
      "    cdef int i = 0\n",
      "    for i in range(2,len(X)):\n",
      "        while X[low,0]<(X[i,0]-r):\n",
      "            low+=1\n",
      "        if low<i:\n",
      "            r=min(r,mindistpt(X[low:i],X[i],metric,r,1,cut))\n",
      "    return r"
     ],
     "language": "python",
     "metadata": {},
     "outputs": [],
     "prompt_number": 12
    },
    {
     "cell_type": "code",
     "collapsed": false,
     "input": [
      "import scipy as sp\n",
      "X=sp.rand(100000,2)\n",
      "print mindist19(X)\n",
      "print cymindist19(X)\n",
      "print mindist27(X,metric)\n",
      "print cymindist27(X,metric)\n",
      "print mindistRyan2(X)\n",
      "print cymindistRyan2(X)\n",
      "print mindist28(X,metric)\n",
      "print cymindist28(X,metric)\n",
      "%timeit mindist19(X)\n",
      "%timeit cymindist19(X)\n",
      "%timeit mindist27(X,metric)\n",
      "%timeit cymindist27(X,metric)\n",
      "%timeit mindistRyan2(X)\n",
      "%timeit cymindistRyan2(X)\n",
      "%timeit mindist28(X,metric)\n",
      "%timeit cymindist28(X,metric)"
     ],
     "language": "python",
     "metadata": {},
     "outputs": [
      {
       "output_type": "stream",
       "stream": "stdout",
       "text": [
        "1.36058687361e-05\n",
        "1.36058687361e-05"
       ]
      },
      {
       "output_type": "stream",
       "stream": "stdout",
       "text": [
        "\n",
        "1.36058687361e-05"
       ]
      },
      {
       "output_type": "stream",
       "stream": "stdout",
       "text": [
        "\n",
        "1.36058687361e-05"
       ]
      },
      {
       "output_type": "stream",
       "stream": "stdout",
       "text": [
        "\n",
        "(1.3605868736084495e-05, (0.88183005085690047, 0.66513375212709192), (0.8818198440401912, 0.66512475543010208))"
       ]
      },
      {
       "output_type": "stream",
       "stream": "stdout",
       "text": [
        "\n",
        "1.36058687361e-05"
       ]
      },
      {
       "output_type": "stream",
       "stream": "stdout",
       "text": [
        "\n",
        "1.36058687361e-05"
       ]
      },
      {
       "output_type": "stream",
       "stream": "stdout",
       "text": [
        "\n",
        "1.36058687361e-05"
       ]
      },
      {
       "output_type": "stream",
       "stream": "stdout",
       "text": [
        "\n",
        "1 loops, best of 3: 2.94 s per loop"
       ]
      },
      {
       "output_type": "stream",
       "stream": "stdout",
       "text": [
        "\n",
        "1 loops, best of 3: 2.81 s per loop"
       ]
      },
      {
       "output_type": "stream",
       "stream": "stdout",
       "text": [
        "\n",
        "1 loops, best of 3: 2.78 s per loop"
       ]
      },
      {
       "output_type": "stream",
       "stream": "stdout",
       "text": [
        "\n",
        "1 loops, best of 3: 2.65 s per loop"
       ]
      },
      {
       "output_type": "stream",
       "stream": "stdout",
       "text": [
        "\n",
        "1 loops, best of 3: 768 ms per loop"
       ]
      },
      {
       "output_type": "stream",
       "stream": "stdout",
       "text": [
        "\n",
        "1 loops, best of 3: 195 ms per loop"
       ]
      },
      {
       "output_type": "stream",
       "stream": "stdout",
       "text": [
        "\n",
        "1 loops, best of 3: 2.24 s per loop"
       ]
      },
      {
       "output_type": "stream",
       "stream": "stdout",
       "text": [
        "\n",
        "1 loops, best of 3: 2.01 s per loop"
       ]
      },
      {
       "output_type": "stream",
       "stream": "stdout",
       "text": [
        "\n"
       ]
      }
     ],
     "prompt_number": 13
    },
    {
     "cell_type": "code",
     "collapsed": false,
     "input": [
      "X=sp.rand(10000,10)\n",
      "#mindist27 tends to outpace mindist28 in higher dimensions with fewer points.\n",
      "#this can be offset sleightly by using the cut parameter to mindist28, but in general, it can't quite keep up\n",
      "%timeit(mindist27(X,metric))\n",
      "%timeit(mindist28(X,metric))\n",
      "%timeit(mindist28(X,metric,cut=1000))"
     ],
     "language": "python",
     "metadata": {},
     "outputs": [
      {
       "output_type": "stream",
       "stream": "stdout",
       "text": [
        "1 loops, best of 3: 1.29 s per loop\n",
        "1 loops, best of 3: 3.09 s per loop"
       ]
      },
      {
       "output_type": "stream",
       "stream": "stdout",
       "text": [
        "\n",
        "1 loops, best of 3: 1.93 s per loop"
       ]
      },
      {
       "output_type": "stream",
       "stream": "stdout",
       "text": [
        "\n"
       ]
      }
     ],
     "prompt_number": 14
    },
    {
     "cell_type": "code",
     "collapsed": false,
     "input": [
      "X=sp.rand(100000,5)\n",
      "#mindist28 tends to outpace mindist27 when enough points are added.\n",
      "#generally, 28 scales better with the number of points and 27 scales better with higher dimensions\n",
      "%timeit(mindist27(X,metric))\n",
      "%timeit(mindist28(X,metric))"
     ],
     "language": "python",
     "metadata": {},
     "outputs": [
      {
       "output_type": "stream",
       "stream": "stdout",
       "text": [
        "1 loops, best of 3: 8.17 s per loop\n",
        "1 loops, best of 3: 6.63 s per loop"
       ]
      },
      {
       "output_type": "stream",
       "stream": "stdout",
       "text": [
        "\n"
       ]
      }
     ],
     "prompt_number": 15
    },
    {
     "cell_type": "code",
     "collapsed": false,
     "input": [
      "X=sp.rand(1000000,4)\n",
      "%timeit mindist27(X,metric)\n",
      "%timeit mindist28(X,metric)"
     ],
     "language": "python",
     "metadata": {},
     "outputs": [
      {
       "output_type": "stream",
       "stream": "stdout",
       "text": [
        "1 loops, best of 3: 93.8 s per loop\n",
        "1 loops, best of 3: 70.3 s per loop"
       ]
      },
      {
       "output_type": "stream",
       "stream": "stdout",
       "text": [
        "\n"
       ]
      }
     ],
     "prompt_number": 16
    },
    {
     "cell_type": "code",
     "collapsed": false,
     "input": [
      "#this generates the plots for the simplified linsweep\n",
      "#It generates more plots than are actually used in the lab. I just picked the plots that were useful in illustrating the algorithm.\n",
      "def multidist(p0,p1):\n",
      "    l=len(p0)\n",
      "    return (sum([(p0[i]-p1[i])**2 for i in range(l)]))**(.5)\n",
      "def mindist3plot(X):\n",
      "    ptlist=pq.PriorityQueue()\n",
      "    n = len(X)\n",
      "    for i in xrange(n):\n",
      "        ptlist.add(tuple(X[i]),X[i,0])\n",
      "    actives = []\n",
      "    pt=ptlist.get()\n",
      "    actives.append(pt)\n",
      "    pt=ptlist.get()\n",
      "    actives.append(pt)\n",
      "    r = multidist(actives[0], actives[1])\n",
      "    for i in xrange(n-2):\n",
      "        pt=ptlist.get()\n",
      "        l=len(actives)\n",
      "        while l>0:\n",
      "            if actives[0][0]>(pt[0]+r):\n",
      "                actives.pop(0)\n",
      "                l-=1\n",
      "            else:\n",
      "                break\n",
      "        plt.scatter(X[:,0],X[:,1])\n",
      "        res=15\n",
      "        T=sp.linspace(-.2,1.2,res)\n",
      "        res2=201\n",
      "        theta=sp.linspace(-sp.pi/2,sp.pi/2,res2)\n",
      "        plt.plot([pt[0]]*res,T,color='r')\n",
      "        plt.plot([pt[0]+r]*res,T,color='r')\n",
      "        X0=sp.array([pt+r*sp.array([sp.cos(t),sp.sin(t)]) for t in theta])\n",
      "        plt.plot(X0[:,0],X0[:,1],color='g')\n",
      "        plt.xlim((-.2,1.2))\n",
      "        plt.ylim((-.2,1.2))\n",
      "        plt.show()\n",
      "        for k in xrange(len(actives)):\n",
      "            d=multidist(pt,actives[k])\n",
      "            if d<r:\n",
      "                r=d\n",
      "        actives.append(pt)\n",
      "    return r\n",
      "X=sp.rand(10,2)\n",
      "mindist3plot(X)"
     ],
     "language": "python",
     "metadata": {},
     "outputs": [
      {
       "output_type": "pyout",
       "prompt_number": 18,
       "text": [
        "0.15551351274570027"
       ]
      }
     ],
     "prompt_number": 18
    },
    {
     "cell_type": "code",
     "collapsed": false,
     "input": [
      "#This generates the plots for the full version.\n",
      "#It generates more plots than are actually used in the lab. I just picked the plots that were useful in illustrating the algorithm.\n",
      "def mindistplot(X):\n",
      "    ptlist=pq.PriorityQueue()\n",
      "    n = len(X)\n",
      "    for i in xrange(n):\n",
      "        ptlist.add(tuple(X[i]),X[i,0])\n",
      "    actives = []\n",
      "    pt=ptlist.get()\n",
      "    actives.insert(bs.bisect_left(actives,tuple(reversed(tuple(pt)))),tuple(reversed(tuple(pt))))\n",
      "    pt=ptlist.get()\n",
      "    actives.insert(bs.bisect_left(actives,tuple(reversed(tuple(pt)))),tuple(reversed(tuple(pt))))\n",
      "    r = multidist(actives[0], actives[1])\n",
      "    for i in xrange(n-2):\n",
      "        plt.scatter(X[:,0],X[:,1])\n",
      "        pt=ptlist.get()\n",
      "        res=1401\n",
      "        x=sp.linspace(-.2,1.2,res)\n",
      "        plt.plot(x,[pt[1]-r]*res,color='r')\n",
      "        plt.plot(x,[pt[1]+r]*res,color='r')\n",
      "        plt.plot([pt[0]+r]*res,x,color='b')\n",
      "        plt.plot([pt[0]]*res,x,color='b')\n",
      "        T=sp.linspace(-sp.pi/2,sp.pi/2,res)\n",
      "        pt=sp.array(pt)\n",
      "        X0=sp.array([pt+r*sp.array([sp.cos(t),sp.sin(t)]) for t in T])\n",
      "        plt.plot(X0[:,0],X0[:,1],color='g')\n",
      "        block=actives[bs.bisect_left(actives,(pt[1]-r, pt[0]-r)):bs.bisect_right(actives, (pt[1]+r, pt[0]))]\n",
      "        for k in xrange(len(block)):\n",
      "            d=multidist(tuple(reversed(tuple(pt))),block[k])\n",
      "            if d<r:\n",
      "                r=d\n",
      "        removalidx=0\n",
      "        while removalidx < len(actives):\n",
      "            if abs(actives[removalidx][1]-pt[0])>r:\n",
      "                actives.pop(removalidx)\n",
      "            else:\n",
      "                removalidx+=1\n",
      "        if len(actives)>0:\n",
      "            plt.scatter(sp.fliplr(sp.array(actives))[:,0],sp.fliplr(sp.array(actives))[:,1])\n",
      "        if len(block)>0:\n",
      "            plt.scatter(sp.fliplr(sp.array(block))[:,0],sp.fliplr(sp.array(block))[:,1])\n",
      "        plt.show()\n",
      "        actives.insert(bs.bisect_left(actives,tuple(reversed(tuple(pt)))),tuple(reversed(tuple(pt))))\n",
      "    return r\n",
      "X=sp.rand(25,2)\n",
      "mindistplot(X)"
     ],
     "language": "python",
     "metadata": {},
     "outputs": [
      {
       "output_type": "pyout",
       "prompt_number": 21,
       "text": [
        "0.027274145406857145"
       ]
      }
     ],
     "prompt_number": 21
    },
    {
     "cell_type": "code",
     "collapsed": false,
     "input": [],
     "language": "python",
     "metadata": {},
     "outputs": []
    }
   ],
   "metadata": {}
  }
 ]
}